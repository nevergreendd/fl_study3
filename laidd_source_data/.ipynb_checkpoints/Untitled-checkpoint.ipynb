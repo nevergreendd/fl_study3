{
 "cells": [
  {
   "cell_type": "code",
   "execution_count": 46,
   "id": "0b7a86f2",
   "metadata": {},
   "outputs": [],
   "source": [
    "import pandas as pd\n",
    "from glob import glob\n",
    "from copy import deepcopy"
   ]
  },
  {
   "cell_type": "code",
   "execution_count": null,
   "id": "956615f8",
   "metadata": {},
   "outputs": [],
   "source": []
  },
  {
   "cell_type": "code",
   "execution_count": 14,
   "id": "74631a79",
   "metadata": {},
   "outputs": [
    {
     "name": "stdout",
     "output_type": "stream",
     "text": [
      "['CHEMBL613373.csv', 'CHEMBL2367379.csv', 'CHEMBL613694.csv', 'CHEMBL2367428.csv', 'CHEMBL2367369.csv', 'CHEMBL612558.csv', 'CHEMBL613580.csv']\n"
     ]
    }
   ],
   "source": [
    "#l=glob('*.csv')\n",
    "csvs = ['CHEMBL613373.csv', 'CHEMBL2367379.csv', \n",
    "     'CHEMBL613694.csv', 'CHEMBL2367428.csv',\n",
    "     'CHEMBL2367369.csv', \n",
    "     'CHEMBL612558.csv', 'CHEMBL613580.csv' \n",
    "      ]\n",
    "print(l)"
   ]
  },
  {
   "cell_type": "code",
   "execution_count": 48,
   "id": "36cf8526",
   "metadata": {
    "scrolled": true
   },
   "outputs": [
    {
     "name": "stdout",
     "output_type": "stream",
     "text": [
      "[CHEMBL613373.csv]: 4873 -> 4295 -> 3409\n",
      "[CHEMBL2367379.csv]: 1590 -> 1512 -> 1167\n",
      "[CHEMBL613694.csv]: 2540 -> 2252 -> 1929\n",
      "[CHEMBL2367428.csv]: 1047 -> 1013 -> 761\n",
      "[CHEMBL2367369.csv]: 76 -> 76 -> 61\n",
      "[CHEMBL612558.csv]: 21729 -> 20948 -> 17180\n",
      "[CHEMBL613580.csv]: 2269 -> 2093 -> 1826\n"
     ]
    },
    {
     "name": "stderr",
     "output_type": "stream",
     "text": [
      "/var/folders/07/7lkz10nx553cg_dyr415d4vw0000gn/T/ipykernel_10668/2595454823.py:2: DtypeWarning: Columns (31) have mixed types. Specify dtype option on import or set low_memory=False.\n",
      "  ori = pd.read_csv(csv, delimiter=';')\n"
     ]
    }
   ],
   "source": [
    "for csv in csvs:\n",
    "    ori = pd.read_csv(csv, delimiter=';')\n",
    "    percent = ori[ori['Standard Units']=='%']\n",
    "    percent_dropna = deepcopy(percent)\n",
    "    percent_dropna.dropna(subset = ['Standard Value'], inplace=True)\n",
    "    print(f'[{csv}]: {len(ori)} -> {len(percent)} -> {len(percent_dropna)}')"
   ]
  },
  {
   "cell_type": "code",
   "execution_count": 44,
   "id": "406f171f",
   "metadata": {},
   "outputs": [
    {
     "data": {
      "text/plain": [
       "3987"
      ]
     },
     "execution_count": 44,
     "metadata": {},
     "output_type": "execute_result"
    }
   ],
   "source": [
    "a=pd.read_csv(l[0], delimiter=';')\n",
    "a.dropna(subset = ['Standard Value'], inplace=True)\n",
    "len(a)\n"
   ]
  },
  {
   "cell_type": "code",
   "execution_count": null,
   "id": "11b6df6d",
   "metadata": {},
   "outputs": [],
   "source": []
  }
 ],
 "metadata": {
  "kernelspec": {
   "display_name": "Python 3 (ipykernel)",
   "language": "python",
   "name": "python3"
  },
  "language_info": {
   "codemirror_mode": {
    "name": "ipython",
    "version": 3
   },
   "file_extension": ".py",
   "mimetype": "text/x-python",
   "name": "python",
   "nbconvert_exporter": "python",
   "pygments_lexer": "ipython3",
   "version": "3.9.6"
  }
 },
 "nbformat": 4,
 "nbformat_minor": 5
}
