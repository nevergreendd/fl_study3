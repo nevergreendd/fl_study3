{
 "cells": [
  {
   "cell_type": "code",
   "execution_count": 1,
   "id": "0b7a86f2",
   "metadata": {},
   "outputs": [],
   "source": [
    "import pandas as pd\n",
    "from glob import glob\n",
    "from copy import deepcopy"
   ]
  },
  {
   "cell_type": "code",
   "execution_count": null,
   "id": "956615f8",
   "metadata": {},
   "outputs": [],
   "source": []
  },
  {
   "cell_type": "code",
   "execution_count": 2,
   "id": "74631a79",
   "metadata": {},
   "outputs": [],
   "source": [
    "#l=glob('*.csv')\n",
    "csvs = ['CHEMBL613373.csv', 'CHEMBL2367379.csv', \n",
    "     'CHEMBL613694.csv', 'CHEMBL2367428.csv',\n",
    "     'CHEMBL2367369.csv', \n",
    "     'CHEMBL612558.csv', 'CHEMBL613580.csv' \n",
    "      ]\n"
   ]
  },
  {
   "cell_type": "code",
   "execution_count": 7,
   "id": "36cf8526",
   "metadata": {
    "scrolled": true
   },
   "outputs": [
    {
     "ename": "NameError",
     "evalue": "name 'Chem' is not defined",
     "output_type": "error",
     "traceback": [
      "\u001b[0;31m---------------------------------------------------------------------------\u001b[0m",
      "\u001b[0;31mNameError\u001b[0m                                 Traceback (most recent call last)",
      "Cell \u001b[0;32mIn [7], line 11\u001b[0m\n\u001b[1;32m      8\u001b[0m percent_nona_nodup\u001b[38;5;241m.\u001b[39mto_csv(\u001b[38;5;124mf\u001b[39m\u001b[38;5;124m'\u001b[39m\u001b[38;5;124mtrimmed_\u001b[39m\u001b[38;5;132;01m{\u001b[39;00mcsv\u001b[38;5;132;01m}\u001b[39;00m\u001b[38;5;124m'\u001b[39m, columns\u001b[38;5;241m=\u001b[39m[\u001b[38;5;124m'\u001b[39m\u001b[38;5;124mSmiles\u001b[39m\u001b[38;5;124m'\u001b[39m, \u001b[38;5;124m'\u001b[39m\u001b[38;5;124mStandard Value\u001b[39m\u001b[38;5;124m'\u001b[39m])\u001b[38;5;66;03m#, index=False)\u001b[39;00m\n\u001b[1;32m     10\u001b[0m \u001b[38;5;66;03m# drop too high mw\u001b[39;00m\n\u001b[0;32m---> 11\u001b[0m mw \u001b[38;5;241m=\u001b[39m \u001b[43mChem\u001b[49m\u001b[38;5;241m.\u001b[39mMolFromSmiles(percent_nona_nodup[\u001b[38;5;124m'\u001b[39m\u001b[38;5;124mSmiles\u001b[39m\u001b[38;5;124m'\u001b[39m])\u001b[38;5;241m.\u001b[39mGetMolWt()\n\u001b[1;32m     12\u001b[0m percent_nona_nodup \u001b[38;5;241m=\u001b[39m percent_nona_nodup[mw\u001b[38;5;241m.\u001b[39mapply(\u001b[38;5;28;01mlambda\u001b[39;00m x: \u001b[38;5;28mlen\u001b[39m(x) \u001b[38;5;241m<\u001b[39m \u001b[38;5;241m100\u001b[39m)]\n",
      "\u001b[0;31mNameError\u001b[0m: name 'Chem' is not defined"
     ]
    }
   ],
   "source": [
    "for csv in csvs:\n",
    "    ori = pd.read_csv(csv, delimiter=';')\n",
    "    percent = ori[ori['Standard Units']=='%']\n",
    "    percent_dropna = deepcopy(percent)\n",
    "    percent_dropna.dropna(subset = ['Standard Value'], inplace=True)\n",
    "\n",
    "    percent_nona_nodup = percent_dropna.drop_duplicates(['Smiles', 'Standard Value'])\n",
    "    percent_nona_nodup.to_csv(f'trimmed_{csv}', columns=['Smiles', 'Standard Value'])#, index=False)\n",
    "\n",
    "    # drop too high mw\n",
    "    mw = Chem.MolFromSmiles(percent_nona_nodup['Smiles']).GetMolWt()\n",
    "    percent_nona_nodup = percent_nona_nodup[mw.apply(lambda x: len(x) < 100)]\n",
    "    #     with open(f'trimmed_{csv}', 'w') as f:"
   ]
  },
  {
   "cell_type": "code",
   "execution_count": 44,
   "id": "406f171f",
   "metadata": {},
   "outputs": [
    {
     "data": {
      "text/plain": [
       "3987"
      ]
     },
     "execution_count": 44,
     "metadata": {},
     "output_type": "execute_result"
    }
   ],
   "source": [
    "a=pd.read_csv(l[0], delimiter=';')\n",
    "a.dropna(subset = ['Standard Value'], inplace=True)\n",
    "len(a)\n"
   ]
  },
  {
   "cell_type": "code",
   "execution_count": null,
   "id": "11b6df6d",
   "metadata": {},
   "outputs": [],
   "source": []
  }
 ],
 "metadata": {
  "kernelspec": {
   "display_name": "Python 3 (ipykernel)",
   "language": "python",
   "name": "python3"
  },
  "language_info": {
   "codemirror_mode": {
    "name": "ipython",
    "version": 3
   },
   "file_extension": ".py",
   "mimetype": "text/x-python",
   "name": "python",
   "nbconvert_exporter": "python",
   "pygments_lexer": "ipython3",
   "version": "3.9.6"
  }
 },
 "nbformat": 4,
 "nbformat_minor": 5
}
